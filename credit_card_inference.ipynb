{
 "cells": [
  {
   "cell_type": "markdown",
   "metadata": {},
   "source": [
    "# 12. MODEL INFERENCE"
   ]
  },
  {
   "cell_type": "markdown",
   "metadata": {},
   "source": [
    "## A. Libraries"
   ]
  },
  {
   "cell_type": "code",
   "execution_count": 17,
   "metadata": {},
   "outputs": [],
   "source": [
    "import pandas as pd\n",
    "import numpy as np\n",
    "import pickle\n",
    "import json"
   ]
  },
  {
   "cell_type": "markdown",
   "metadata": {},
   "source": [
    "## B. Model Load"
   ]
  },
  {
   "cell_type": "code",
   "execution_count": 37,
   "metadata": {},
   "outputs": [],
   "source": [
    "with open('data_kmeans.pkl', 'rb') as file_1:\n",
    "  km_el = pickle.load(file_1)\n",
    "\n",
    "with open('model_scaler_skew.pkl', 'rb') as file_2:\n",
    "  scaler_skew = pickle.load(file_2)\n",
    "\n",
    "with open('model_scaler_normal.pkl', 'rb') as file_3:\n",
    "  scaler_nor = pickle.load(file_3)\n",
    "\n",
    "with open('list_num_column_skew.txt', 'rb') as file_4:\n",
    "  df_cols = json.load(file_4)\n",
    "\n",
    "with open('list_num_column_normal.txt', 'rb') as file_5:\n",
    "  df_coln = json.load(file_5)"
   ]
  },
  {
   "cell_type": "markdown",
   "metadata": {},
   "source": [
    "## C. Data Inference"
   ]
  },
  {
   "cell_type": "code",
   "execution_count": 40,
   "metadata": {},
   "outputs": [
    {
     "name": "stdout",
     "output_type": "stream",
     "text": [
      "<class 'pandas.core.frame.DataFrame'>\n",
      "Index: 4 entries, 2 to 5\n",
      "Data columns (total 21 columns):\n",
      " #   Column                            Non-Null Count  Dtype  \n",
      "---  ------                            --------------  -----  \n",
      " 0   cust_id                           4 non-null      int64  \n",
      " 1   balance                           4 non-null      float64\n",
      " 2   balance_frequency                 4 non-null      float64\n",
      " 3   purchases                         4 non-null      float64\n",
      " 4   oneoff_purchases                  4 non-null      float64\n",
      " 5   installments_purchases            4 non-null      float64\n",
      " 6   cash_advance                      4 non-null      float64\n",
      " 7   purchases_frequency               4 non-null      float64\n",
      " 8   oneoff_purchases_frequency        4 non-null      float64\n",
      " 9   purchases_installments_frequency  4 non-null      float64\n",
      " 10  cash_advance_frequency            4 non-null      float64\n",
      " 11  cash_advance_trx                  4 non-null      int64  \n",
      " 12  purchases_trx                     4 non-null      int64  \n",
      " 13  credit_limit                      4 non-null      float64\n",
      " 14  payments                          4 non-null      float64\n",
      " 15  minimum_payments                  4 non-null      float64\n",
      " 16  prc_full_payment                  4 non-null      float64\n",
      " 17  tenure                            4 non-null      int64  \n",
      " 18  cluster_elbow                     4 non-null      int64  \n",
      " 19  cluster_silhoutte                 4 non-null      int64  \n",
      " 20  cluster_silhouette                4 non-null      int64  \n",
      "dtypes: float64(14), int64(7)\n",
      "memory usage: 704.0 bytes\n"
     ]
    },
    {
     "data": {
      "text/html": [
       "<div>\n",
       "<style scoped>\n",
       "    .dataframe tbody tr th:only-of-type {\n",
       "        vertical-align: middle;\n",
       "    }\n",
       "\n",
       "    .dataframe tbody tr th {\n",
       "        vertical-align: top;\n",
       "    }\n",
       "\n",
       "    .dataframe thead th {\n",
       "        text-align: right;\n",
       "    }\n",
       "</style>\n",
       "<table border=\"1\" class=\"dataframe\">\n",
       "  <thead>\n",
       "    <tr style=\"text-align: right;\">\n",
       "      <th></th>\n",
       "      <th>cust_id</th>\n",
       "      <th>balance</th>\n",
       "      <th>balance_frequency</th>\n",
       "      <th>purchases</th>\n",
       "      <th>oneoff_purchases</th>\n",
       "      <th>installments_purchases</th>\n",
       "      <th>cash_advance</th>\n",
       "      <th>purchases_frequency</th>\n",
       "      <th>oneoff_purchases_frequency</th>\n",
       "      <th>purchases_installments_frequency</th>\n",
       "      <th>...</th>\n",
       "      <th>cash_advance_trx</th>\n",
       "      <th>purchases_trx</th>\n",
       "      <th>credit_limit</th>\n",
       "      <th>payments</th>\n",
       "      <th>minimum_payments</th>\n",
       "      <th>prc_full_payment</th>\n",
       "      <th>tenure</th>\n",
       "      <th>cluster_elbow</th>\n",
       "      <th>cluster_silhoutte</th>\n",
       "      <th>cluster_silhouette</th>\n",
       "    </tr>\n",
       "  </thead>\n",
       "  <tbody>\n",
       "    <tr>\n",
       "      <th>2</th>\n",
       "      <td>6075</td>\n",
       "      <td>757.964752</td>\n",
       "      <td>0.875</td>\n",
       "      <td>157.4</td>\n",
       "      <td>157.4</td>\n",
       "      <td>0.0</td>\n",
       "      <td>0.0</td>\n",
       "      <td>0.125</td>\n",
       "      <td>0.125</td>\n",
       "      <td>0.0</td>\n",
       "      <td>...</td>\n",
       "      <td>0</td>\n",
       "      <td>6</td>\n",
       "      <td>1200.0</td>\n",
       "      <td>1494.480376</td>\n",
       "      <td>2638.598410</td>\n",
       "      <td>0.0</td>\n",
       "      <td>8</td>\n",
       "      <td>1</td>\n",
       "      <td>1</td>\n",
       "      <td>1</td>\n",
       "    </tr>\n",
       "    <tr>\n",
       "      <th>3</th>\n",
       "      <td>6291</td>\n",
       "      <td>264.566591</td>\n",
       "      <td>0.375</td>\n",
       "      <td>1150.0</td>\n",
       "      <td>1150.0</td>\n",
       "      <td>0.0</td>\n",
       "      <td>0.0</td>\n",
       "      <td>0.125</td>\n",
       "      <td>0.125</td>\n",
       "      <td>0.0</td>\n",
       "      <td>...</td>\n",
       "      <td>0</td>\n",
       "      <td>1</td>\n",
       "      <td>1200.0</td>\n",
       "      <td>3029.380326</td>\n",
       "      <td>85.428885</td>\n",
       "      <td>0.0</td>\n",
       "      <td>8</td>\n",
       "      <td>1</td>\n",
       "      <td>1</td>\n",
       "      <td>1</td>\n",
       "    </tr>\n",
       "    <tr>\n",
       "      <th>4</th>\n",
       "      <td>7755</td>\n",
       "      <td>440.613643</td>\n",
       "      <td>1.000</td>\n",
       "      <td>600.0</td>\n",
       "      <td>600.0</td>\n",
       "      <td>0.0</td>\n",
       "      <td>0.0</td>\n",
       "      <td>0.125</td>\n",
       "      <td>0.125</td>\n",
       "      <td>0.0</td>\n",
       "      <td>...</td>\n",
       "      <td>0</td>\n",
       "      <td>1</td>\n",
       "      <td>1000.0</td>\n",
       "      <td>215.316424</td>\n",
       "      <td>137.846006</td>\n",
       "      <td>0.0</td>\n",
       "      <td>8</td>\n",
       "      <td>1</td>\n",
       "      <td>1</td>\n",
       "      <td>1</td>\n",
       "    </tr>\n",
       "    <tr>\n",
       "      <th>5</th>\n",
       "      <td>8299</td>\n",
       "      <td>611.561026</td>\n",
       "      <td>1.000</td>\n",
       "      <td>765.0</td>\n",
       "      <td>765.0</td>\n",
       "      <td>0.0</td>\n",
       "      <td>0.0</td>\n",
       "      <td>0.125</td>\n",
       "      <td>0.125</td>\n",
       "      <td>0.0</td>\n",
       "      <td>...</td>\n",
       "      <td>0</td>\n",
       "      <td>1</td>\n",
       "      <td>2000.0</td>\n",
       "      <td>204.464151</td>\n",
       "      <td>146.352314</td>\n",
       "      <td>0.0</td>\n",
       "      <td>8</td>\n",
       "      <td>1</td>\n",
       "      <td>1</td>\n",
       "      <td>1</td>\n",
       "    </tr>\n",
       "  </tbody>\n",
       "</table>\n",
       "<p>4 rows × 21 columns</p>\n",
       "</div>"
      ],
      "text/plain": [
       "   cust_id     balance  balance_frequency  purchases  oneoff_purchases  \\\n",
       "2     6075  757.964752              0.875      157.4             157.4   \n",
       "3     6291  264.566591              0.375     1150.0            1150.0   \n",
       "4     7755  440.613643              1.000      600.0             600.0   \n",
       "5     8299  611.561026              1.000      765.0             765.0   \n",
       "\n",
       "   installments_purchases  cash_advance  purchases_frequency  \\\n",
       "2                     0.0           0.0                0.125   \n",
       "3                     0.0           0.0                0.125   \n",
       "4                     0.0           0.0                0.125   \n",
       "5                     0.0           0.0                0.125   \n",
       "\n",
       "   oneoff_purchases_frequency  purchases_installments_frequency  ...  \\\n",
       "2                       0.125                               0.0  ...   \n",
       "3                       0.125                               0.0  ...   \n",
       "4                       0.125                               0.0  ...   \n",
       "5                       0.125                               0.0  ...   \n",
       "\n",
       "   cash_advance_trx  purchases_trx  credit_limit     payments  \\\n",
       "2                 0              6        1200.0  1494.480376   \n",
       "3                 0              1        1200.0  3029.380326   \n",
       "4                 0              1        1000.0   215.316424   \n",
       "5                 0              1        2000.0   204.464151   \n",
       "\n",
       "   minimum_payments  prc_full_payment  tenure  cluster_elbow  \\\n",
       "2       2638.598410               0.0       8              1   \n",
       "3         85.428885               0.0       8              1   \n",
       "4        137.846006               0.0       8              1   \n",
       "5        146.352314               0.0       8              1   \n",
       "\n",
       "   cluster_silhoutte  cluster_silhouette  \n",
       "2                  1                   1  \n",
       "3                  1                   1  \n",
       "4                  1                   1  \n",
       "5                  1                   1  \n",
       "\n",
       "[4 rows x 21 columns]"
      ]
     },
     "execution_count": 40,
     "metadata": {},
     "output_type": "execute_result"
    }
   ],
   "source": [
    "data_inf = {'cust_id': {2: 6075, 3: 6291, 4: 7755, 5: 8299},\n",
    " 'balance': {2: 757.964752, 3: 264.566591, 4: 440.613643, 5: 611.561026},\n",
    " 'balance_frequency': {2: 0.875, 3: 0.375, 4: 1.0, 5: 1.0},\n",
    " 'purchases': {2: 157.4, 3: 1150.0, 4: 600.0, 5: 765.0},\n",
    " 'oneoff_purchases': {2: 157.4, 3: 1150.0, 4: 600.0, 5: 765.0},\n",
    " 'installments_purchases': {2: 0.0, 3: 0.0, 4: 0.0, 5: 0.0},\n",
    " 'cash_advance': {2: 0.0, 3: 0.0, 4: 0.0, 5: 0.0},\n",
    " 'purchases_frequency': {2: 0.125, 3: 0.125, 4: 0.125, 5: 0.125},\n",
    " 'oneoff_purchases_frequency': {2: 0.125, 3: 0.125, 4: 0.125, 5: 0.125},\n",
    " 'purchases_installments_frequency': {2: 0.0, 3: 0.0, 4: 0.0, 5: 0.0},\n",
    " 'cash_advance_frequency': {2: 0.0, 3: 0.0, 4: 0.0, 5: 0.0},\n",
    " 'cash_advance_trx': {2: 0, 3: 0, 4: 0, 5: 0},\n",
    " 'purchases_trx': {2: 6, 3: 1, 4: 1, 5: 1},\n",
    " 'credit_limit': {2: 1200.0, 3: 1200.0, 4: 1000.0, 5: 2000.0},\n",
    " 'payments': {2: 1494.480376, 3: 3029.380326, 4: 215.316424, 5: 204.464151},\n",
    " 'minimum_payments': {2: 2638.59841,\n",
    "  3: 85.428885,\n",
    "  4: 137.846006,\n",
    "  5: 146.352314},\n",
    " 'prc_full_payment': {2: 0.0, 3: 0.0, 4: 0.0, 5: 0.0},\n",
    " 'tenure': {2: 8, 3: 8, 4: 8, 5: 8},\n",
    " 'cluster_elbow': {2: 1, 3: 1, 4: 1, 5: 1},\n",
    " 'cluster_silhoutte': {2: 1, 3: 1, 4: 1, 5: 1},\n",
    " 'cluster_silhouette': {2: 1, 3: 1, 4: 1, 5: 1}}\n",
    "\n",
    "data_inf = pd.DataFrame(data_inf)\n",
    "\n",
    "data_inf.info()\n",
    "data_inf"
   ]
  },
  {
   "cell_type": "markdown",
   "metadata": {},
   "source": [
    "## D. Numeric & Categoric Split"
   ]
  },
  {
   "cell_type": "code",
   "execution_count": 41,
   "metadata": {},
   "outputs": [
    {
     "data": {
      "text/plain": [
       "['balance',\n",
       " 'balance_frequency',\n",
       " 'purchases',\n",
       " 'oneoff_purchases',\n",
       " 'installments_purchases',\n",
       " 'cash_advance',\n",
       " 'oneoff_purchases_frequency',\n",
       " 'cash_advance_frequency',\n",
       " 'cash_advance_trx',\n",
       " 'purchases_trx',\n",
       " 'credit_limit',\n",
       " 'payments',\n",
       " 'prc_full_payment',\n",
       " 'tenure']"
      ]
     },
     "metadata": {},
     "output_type": "display_data"
    },
    {
     "data": {
      "text/plain": [
       "['purchases_frequency', 'purchases_installments_frequency']"
      ]
     },
     "metadata": {},
     "output_type": "display_data"
    }
   ],
   "source": [
    "data_num_s = data_inf[df_cols]\n",
    "data_num_n = data_inf[df_coln]\n",
    "\n",
    "\n",
    "display(df_cols)\n",
    "display(df_coln)"
   ]
  },
  {
   "cell_type": "markdown",
   "metadata": {},
   "source": [
    "## E. Scale & Encode"
   ]
  },
  {
   "cell_type": "code",
   "execution_count": 42,
   "metadata": {},
   "outputs": [
    {
     "name": "stdout",
     "output_type": "stream",
     "text": [
      "balance                       float64\n",
      "balance_frequency             float64\n",
      "purchases                     float64\n",
      "oneoff_purchases              float64\n",
      "installments_purchases        float64\n",
      "cash_advance                  float64\n",
      "oneoff_purchases_frequency    float64\n",
      "cash_advance_frequency        float64\n",
      "cash_advance_trx                int64\n",
      "purchases_trx                   int64\n",
      "credit_limit                  float64\n",
      "payments                      float64\n",
      "prc_full_payment              float64\n",
      "tenure                          int64\n",
      "dtype: object\n",
      "purchases_frequency                 float64\n",
      "purchases_installments_frequency    float64\n",
      "dtype: object\n"
     ]
    }
   ],
   "source": [
    "print(data_num_s.dtypes)\n",
    "print(data_num_n.dtypes)\n"
   ]
  },
  {
   "cell_type": "code",
   "execution_count": 43,
   "metadata": {},
   "outputs": [
    {
     "data": {
      "text/plain": [
       "array([[0.09651228, 0.82903428, 0.02157542, 0.02788561, 0.        ,\n",
       "        0.        , 0.125     , 0.        , 0.        , 0.06461265,\n",
       "        0.07487953, 0.14589917, 0.        , 0.08140924],\n",
       "       [0.03368748, 0.14517141, 0.1576349 , 0.20373859, 0.        ,\n",
       "        0.        , 0.125     , 0.        , 0.        , 0.01076878,\n",
       "        0.07487953, 0.29574928, 0.        , 0.08140924],\n",
       "       [0.0561037 , 1.        , 0.08224429, 0.10629839, 0.        ,\n",
       "        0.        , 0.125     , 0.        , 0.        , 0.01076878,\n",
       "        0.06185701, 0.0210162 , 0.        , 0.08140924],\n",
       "       [0.07787057, 1.        , 0.10486147, 0.13553045, 0.        ,\n",
       "        0.        , 0.125     , 0.        , 0.        , 0.01076878,\n",
       "        0.12696964, 0.01995671, 0.        , 0.08140924]])"
      ]
     },
     "metadata": {},
     "output_type": "display_data"
    },
    {
     "data": {
      "text/plain": [
       "array([[-0.92146472, -0.92428962],\n",
       "       [-0.92146472, -0.92428962],\n",
       "       [-0.92146472, -0.92428962],\n",
       "       [-0.92146472, -0.92428962]])"
      ]
     },
     "metadata": {},
     "output_type": "display_data"
    }
   ],
   "source": [
    "# skew\n",
    "data_inf_num_s = scaler_skew.transform(data_num_s)\n",
    "# normal\n",
    "data_inf_num_n = scaler_nor.transform(data_num_n)\n",
    "\n",
    "display(data_inf_num_s)\n",
    "display(data_inf_num_n)"
   ]
  },
  {
   "cell_type": "markdown",
   "metadata": {},
   "source": [
    "## F. Concatenate"
   ]
  },
  {
   "cell_type": "code",
   "execution_count": 44,
   "metadata": {},
   "outputs": [
    {
     "data": {
      "text/plain": [
       "array([[ 0.09651228,  0.82903428,  0.02157542,  0.02788561,  0.        ,\n",
       "         0.        ,  0.125     ,  0.        ,  0.        ,  0.06461265,\n",
       "         0.07487953,  0.14589917,  0.        ,  0.08140924, -0.92146472,\n",
       "        -0.92428962],\n",
       "       [ 0.03368748,  0.14517141,  0.1576349 ,  0.20373859,  0.        ,\n",
       "         0.        ,  0.125     ,  0.        ,  0.        ,  0.01076878,\n",
       "         0.07487953,  0.29574928,  0.        ,  0.08140924, -0.92146472,\n",
       "        -0.92428962],\n",
       "       [ 0.0561037 ,  1.        ,  0.08224429,  0.10629839,  0.        ,\n",
       "         0.        ,  0.125     ,  0.        ,  0.        ,  0.01076878,\n",
       "         0.06185701,  0.0210162 ,  0.        ,  0.08140924, -0.92146472,\n",
       "        -0.92428962],\n",
       "       [ 0.07787057,  1.        ,  0.10486147,  0.13553045,  0.        ,\n",
       "         0.        ,  0.125     ,  0.        ,  0.        ,  0.01076878,\n",
       "         0.12696964,  0.01995671,  0.        ,  0.08140924, -0.92146472,\n",
       "        -0.92428962]])"
      ]
     },
     "execution_count": 44,
     "metadata": {},
     "output_type": "execute_result"
    }
   ],
   "source": [
    "data_inf_final = np.concatenate([data_inf_num_s, data_inf_num_n], axis=1)\n",
    "\n",
    "data_inf_final"
   ]
  },
  {
   "cell_type": "markdown",
   "metadata": {},
   "source": [
    "## G. Predict"
   ]
  },
  {
   "cell_type": "code",
   "execution_count": 47,
   "metadata": {},
   "outputs": [
    {
     "ename": "ValueError",
     "evalue": "X has 16 features, but KMeans is expecting 7 features as input.",
     "output_type": "error",
     "traceback": [
      "\u001b[1;31m---------------------------------------------------------------------------\u001b[0m",
      "\u001b[1;31mValueError\u001b[0m                                Traceback (most recent call last)",
      "Cell \u001b[1;32mIn[47], line 1\u001b[0m\n\u001b[1;32m----> 1\u001b[0m pred_inf \u001b[38;5;241m=\u001b[39m km_el\u001b[38;5;241m.\u001b[39mpredict(data_inf_final)\n\u001b[0;32m      3\u001b[0m pred_inf\n",
      "File \u001b[1;32mc:\\Users\\lenovo\\anaconda3\\Lib\\site-packages\\sklearn\\cluster\\_kmeans.py:1097\u001b[0m, in \u001b[0;36m_BaseKMeans.predict\u001b[1;34m(self, X, sample_weight)\u001b[0m\n\u001b[0;32m   1071\u001b[0m \u001b[38;5;250m\u001b[39m\u001b[38;5;124;03m\"\"\"Predict the closest cluster each sample in X belongs to.\u001b[39;00m\n\u001b[0;32m   1072\u001b[0m \n\u001b[0;32m   1073\u001b[0m \u001b[38;5;124;03mIn the vector quantization literature, `cluster_centers_` is called\u001b[39;00m\n\u001b[1;32m   (...)\u001b[0m\n\u001b[0;32m   1093\u001b[0m \u001b[38;5;124;03m    Index of the cluster each sample belongs to.\u001b[39;00m\n\u001b[0;32m   1094\u001b[0m \u001b[38;5;124;03m\"\"\"\u001b[39;00m\n\u001b[0;32m   1095\u001b[0m check_is_fitted(\u001b[38;5;28mself\u001b[39m)\n\u001b[1;32m-> 1097\u001b[0m X \u001b[38;5;241m=\u001b[39m \u001b[38;5;28mself\u001b[39m\u001b[38;5;241m.\u001b[39m_check_test_data(X)\n\u001b[0;32m   1098\u001b[0m \u001b[38;5;28;01mif\u001b[39;00m \u001b[38;5;129;01mnot\u001b[39;00m (\u001b[38;5;28misinstance\u001b[39m(sample_weight, \u001b[38;5;28mstr\u001b[39m) \u001b[38;5;129;01mand\u001b[39;00m sample_weight \u001b[38;5;241m==\u001b[39m \u001b[38;5;124m\"\u001b[39m\u001b[38;5;124mdeprecated\u001b[39m\u001b[38;5;124m\"\u001b[39m):\n\u001b[0;32m   1099\u001b[0m     warnings\u001b[38;5;241m.\u001b[39mwarn(\n\u001b[0;32m   1100\u001b[0m         (\n\u001b[0;32m   1101\u001b[0m             \u001b[38;5;124m\"\u001b[39m\u001b[38;5;124m'\u001b[39m\u001b[38;5;124msample_weight\u001b[39m\u001b[38;5;124m'\u001b[39m\u001b[38;5;124m was deprecated in version 1.3 and \u001b[39m\u001b[38;5;124m\"\u001b[39m\n\u001b[1;32m   (...)\u001b[0m\n\u001b[0;32m   1104\u001b[0m         \u001b[38;5;167;01mFutureWarning\u001b[39;00m,\n\u001b[0;32m   1105\u001b[0m     )\n",
      "File \u001b[1;32mc:\\Users\\lenovo\\anaconda3\\Lib\\site-packages\\sklearn\\cluster\\_kmeans.py:950\u001b[0m, in \u001b[0;36m_BaseKMeans._check_test_data\u001b[1;34m(self, X)\u001b[0m\n\u001b[0;32m    949\u001b[0m \u001b[38;5;28;01mdef\u001b[39;00m \u001b[38;5;21m_check_test_data\u001b[39m(\u001b[38;5;28mself\u001b[39m, X):\n\u001b[1;32m--> 950\u001b[0m     X \u001b[38;5;241m=\u001b[39m \u001b[38;5;28mself\u001b[39m\u001b[38;5;241m.\u001b[39m_validate_data(\n\u001b[0;32m    951\u001b[0m         X,\n\u001b[0;32m    952\u001b[0m         accept_sparse\u001b[38;5;241m=\u001b[39m\u001b[38;5;124m\"\u001b[39m\u001b[38;5;124mcsr\u001b[39m\u001b[38;5;124m\"\u001b[39m,\n\u001b[0;32m    953\u001b[0m         reset\u001b[38;5;241m=\u001b[39m\u001b[38;5;28;01mFalse\u001b[39;00m,\n\u001b[0;32m    954\u001b[0m         dtype\u001b[38;5;241m=\u001b[39m[np\u001b[38;5;241m.\u001b[39mfloat64, np\u001b[38;5;241m.\u001b[39mfloat32],\n\u001b[0;32m    955\u001b[0m         order\u001b[38;5;241m=\u001b[39m\u001b[38;5;124m\"\u001b[39m\u001b[38;5;124mC\u001b[39m\u001b[38;5;124m\"\u001b[39m,\n\u001b[0;32m    956\u001b[0m         accept_large_sparse\u001b[38;5;241m=\u001b[39m\u001b[38;5;28;01mFalse\u001b[39;00m,\n\u001b[0;32m    957\u001b[0m     )\n\u001b[0;32m    958\u001b[0m     \u001b[38;5;28;01mreturn\u001b[39;00m X\n",
      "File \u001b[1;32mc:\\Users\\lenovo\\anaconda3\\Lib\\site-packages\\sklearn\\base.py:625\u001b[0m, in \u001b[0;36mBaseEstimator._validate_data\u001b[1;34m(self, X, y, reset, validate_separately, cast_to_ndarray, **check_params)\u001b[0m\n\u001b[0;32m    622\u001b[0m     out \u001b[38;5;241m=\u001b[39m X, y\n\u001b[0;32m    624\u001b[0m \u001b[38;5;28;01mif\u001b[39;00m \u001b[38;5;129;01mnot\u001b[39;00m no_val_X \u001b[38;5;129;01mand\u001b[39;00m check_params\u001b[38;5;241m.\u001b[39mget(\u001b[38;5;124m\"\u001b[39m\u001b[38;5;124mensure_2d\u001b[39m\u001b[38;5;124m\"\u001b[39m, \u001b[38;5;28;01mTrue\u001b[39;00m):\n\u001b[1;32m--> 625\u001b[0m     \u001b[38;5;28mself\u001b[39m\u001b[38;5;241m.\u001b[39m_check_n_features(X, reset\u001b[38;5;241m=\u001b[39mreset)\n\u001b[0;32m    627\u001b[0m \u001b[38;5;28;01mreturn\u001b[39;00m out\n",
      "File \u001b[1;32mc:\\Users\\lenovo\\anaconda3\\Lib\\site-packages\\sklearn\\base.py:414\u001b[0m, in \u001b[0;36mBaseEstimator._check_n_features\u001b[1;34m(self, X, reset)\u001b[0m\n\u001b[0;32m    411\u001b[0m     \u001b[38;5;28;01mreturn\u001b[39;00m\n\u001b[0;32m    413\u001b[0m \u001b[38;5;28;01mif\u001b[39;00m n_features \u001b[38;5;241m!=\u001b[39m \u001b[38;5;28mself\u001b[39m\u001b[38;5;241m.\u001b[39mn_features_in_:\n\u001b[1;32m--> 414\u001b[0m     \u001b[38;5;28;01mraise\u001b[39;00m \u001b[38;5;167;01mValueError\u001b[39;00m(\n\u001b[0;32m    415\u001b[0m         \u001b[38;5;124mf\u001b[39m\u001b[38;5;124m\"\u001b[39m\u001b[38;5;124mX has \u001b[39m\u001b[38;5;132;01m{\u001b[39;00mn_features\u001b[38;5;132;01m}\u001b[39;00m\u001b[38;5;124m features, but \u001b[39m\u001b[38;5;132;01m{\u001b[39;00m\u001b[38;5;28mself\u001b[39m\u001b[38;5;241m.\u001b[39m\u001b[38;5;18m__class__\u001b[39m\u001b[38;5;241m.\u001b[39m\u001b[38;5;18m__name__\u001b[39m\u001b[38;5;132;01m}\u001b[39;00m\u001b[38;5;124m \u001b[39m\u001b[38;5;124m\"\u001b[39m\n\u001b[0;32m    416\u001b[0m         \u001b[38;5;124mf\u001b[39m\u001b[38;5;124m\"\u001b[39m\u001b[38;5;124mis expecting \u001b[39m\u001b[38;5;132;01m{\u001b[39;00m\u001b[38;5;28mself\u001b[39m\u001b[38;5;241m.\u001b[39mn_features_in_\u001b[38;5;132;01m}\u001b[39;00m\u001b[38;5;124m features as input.\u001b[39m\u001b[38;5;124m\"\u001b[39m\n\u001b[0;32m    417\u001b[0m     )\n",
      "\u001b[1;31mValueError\u001b[0m: X has 16 features, but KMeans is expecting 7 features as input."
     ]
    }
   ],
   "source": [
    "pred_inf = km_el.predict(data_inf_final)\n",
    "\n",
    "pred_inf"
   ]
  },
  {
   "cell_type": "markdown",
   "metadata": {},
   "source": [
    "## H. Concatenate Prediction"
   ]
  },
  {
   "cell_type": "code",
   "execution_count": 46,
   "metadata": {},
   "outputs": [
    {
     "ename": "ValueError",
     "evalue": "Shape of passed values is (4, 16), indices imply (4, 1)",
     "output_type": "error",
     "traceback": [
      "\u001b[1;31m---------------------------------------------------------------------------\u001b[0m",
      "\u001b[1;31mValueError\u001b[0m                                Traceback (most recent call last)",
      "Cell \u001b[1;32mIn[46], line 1\u001b[0m\n\u001b[1;32m----> 1\u001b[0m pred_inf_df \u001b[38;5;241m=\u001b[39m pd\u001b[38;5;241m.\u001b[39mDataFrame(data_inf_final, columns\u001b[38;5;241m=\u001b[39m[\u001b[38;5;124m'\u001b[39m\u001b[38;5;124mPrediction\u001b[39m\u001b[38;5;124m'\u001b[39m])\n\u001b[0;32m      3\u001b[0m pred_inf_df\n",
      "File \u001b[1;32mc:\\Users\\lenovo\\anaconda3\\Lib\\site-packages\\pandas\\core\\frame.py:758\u001b[0m, in \u001b[0;36mDataFrame.__init__\u001b[1;34m(self, data, index, columns, dtype, copy)\u001b[0m\n\u001b[0;32m    747\u001b[0m         mgr \u001b[38;5;241m=\u001b[39m dict_to_mgr(\n\u001b[0;32m    748\u001b[0m             \u001b[38;5;66;03m# error: Item \"ndarray\" of \"Union[ndarray, Series, Index]\" has no\u001b[39;00m\n\u001b[0;32m    749\u001b[0m             \u001b[38;5;66;03m# attribute \"name\"\u001b[39;00m\n\u001b[1;32m   (...)\u001b[0m\n\u001b[0;32m    755\u001b[0m             copy\u001b[38;5;241m=\u001b[39m_copy,\n\u001b[0;32m    756\u001b[0m         )\n\u001b[0;32m    757\u001b[0m     \u001b[38;5;28;01melse\u001b[39;00m:\n\u001b[1;32m--> 758\u001b[0m         mgr \u001b[38;5;241m=\u001b[39m ndarray_to_mgr(\n\u001b[0;32m    759\u001b[0m             data,\n\u001b[0;32m    760\u001b[0m             index,\n\u001b[0;32m    761\u001b[0m             columns,\n\u001b[0;32m    762\u001b[0m             dtype\u001b[38;5;241m=\u001b[39mdtype,\n\u001b[0;32m    763\u001b[0m             copy\u001b[38;5;241m=\u001b[39mcopy,\n\u001b[0;32m    764\u001b[0m             typ\u001b[38;5;241m=\u001b[39mmanager,\n\u001b[0;32m    765\u001b[0m         )\n\u001b[0;32m    767\u001b[0m \u001b[38;5;66;03m# For data is list-like, or Iterable (will consume into list)\u001b[39;00m\n\u001b[0;32m    768\u001b[0m \u001b[38;5;28;01melif\u001b[39;00m is_list_like(data):\n",
      "File \u001b[1;32mc:\\Users\\lenovo\\anaconda3\\Lib\\site-packages\\pandas\\core\\internals\\construction.py:337\u001b[0m, in \u001b[0;36mndarray_to_mgr\u001b[1;34m(values, index, columns, dtype, copy, typ)\u001b[0m\n\u001b[0;32m    332\u001b[0m \u001b[38;5;66;03m# _prep_ndarraylike ensures that values.ndim == 2 at this point\u001b[39;00m\n\u001b[0;32m    333\u001b[0m index, columns \u001b[38;5;241m=\u001b[39m _get_axes(\n\u001b[0;32m    334\u001b[0m     values\u001b[38;5;241m.\u001b[39mshape[\u001b[38;5;241m0\u001b[39m], values\u001b[38;5;241m.\u001b[39mshape[\u001b[38;5;241m1\u001b[39m], index\u001b[38;5;241m=\u001b[39mindex, columns\u001b[38;5;241m=\u001b[39mcolumns\n\u001b[0;32m    335\u001b[0m )\n\u001b[1;32m--> 337\u001b[0m _check_values_indices_shape_match(values, index, columns)\n\u001b[0;32m    339\u001b[0m \u001b[38;5;28;01mif\u001b[39;00m typ \u001b[38;5;241m==\u001b[39m \u001b[38;5;124m\"\u001b[39m\u001b[38;5;124marray\u001b[39m\u001b[38;5;124m\"\u001b[39m:\n\u001b[0;32m    340\u001b[0m     \u001b[38;5;28;01mif\u001b[39;00m \u001b[38;5;28missubclass\u001b[39m(values\u001b[38;5;241m.\u001b[39mdtype\u001b[38;5;241m.\u001b[39mtype, \u001b[38;5;28mstr\u001b[39m):\n",
      "File \u001b[1;32mc:\\Users\\lenovo\\anaconda3\\Lib\\site-packages\\pandas\\core\\internals\\construction.py:408\u001b[0m, in \u001b[0;36m_check_values_indices_shape_match\u001b[1;34m(values, index, columns)\u001b[0m\n\u001b[0;32m    406\u001b[0m passed \u001b[38;5;241m=\u001b[39m values\u001b[38;5;241m.\u001b[39mshape\n\u001b[0;32m    407\u001b[0m implied \u001b[38;5;241m=\u001b[39m (\u001b[38;5;28mlen\u001b[39m(index), \u001b[38;5;28mlen\u001b[39m(columns))\n\u001b[1;32m--> 408\u001b[0m \u001b[38;5;28;01mraise\u001b[39;00m \u001b[38;5;167;01mValueError\u001b[39;00m(\u001b[38;5;124mf\u001b[39m\u001b[38;5;124m\"\u001b[39m\u001b[38;5;124mShape of passed values is \u001b[39m\u001b[38;5;132;01m{\u001b[39;00mpassed\u001b[38;5;132;01m}\u001b[39;00m\u001b[38;5;124m, indices imply \u001b[39m\u001b[38;5;132;01m{\u001b[39;00mimplied\u001b[38;5;132;01m}\u001b[39;00m\u001b[38;5;124m\"\u001b[39m)\n",
      "\u001b[1;31mValueError\u001b[0m: Shape of passed values is (4, 16), indices imply (4, 1)"
     ]
    }
   ],
   "source": [
    "pred_inf_df = pd.DataFrame(data_inf_final, columns=['Prediction'])\n",
    "\n",
    "pred_inf_df"
   ]
  },
  {
   "cell_type": "code",
   "execution_count": 27,
   "metadata": {},
   "outputs": [
    {
     "ename": "NameError",
     "evalue": "name 'pred_inf_df' is not defined",
     "output_type": "error",
     "traceback": [
      "\u001b[1;31m---------------------------------------------------------------------------\u001b[0m",
      "\u001b[1;31mNameError\u001b[0m                                 Traceback (most recent call last)",
      "Cell \u001b[1;32mIn[27], line 1\u001b[0m\n\u001b[1;32m----> 1\u001b[0m data_inf_pred \u001b[38;5;241m=\u001b[39m pd\u001b[38;5;241m.\u001b[39mconcat([data_inf, pred_inf_df], axis\u001b[38;5;241m=\u001b[39m\u001b[38;5;241m1\u001b[39m)\n\u001b[0;32m      3\u001b[0m data_inf_pred\n",
      "\u001b[1;31mNameError\u001b[0m: name 'pred_inf_df' is not defined"
     ]
    }
   ],
   "source": [
    "data_inf_pred = pd.concat([data_inf, pred_inf_df], axis=1)\n",
    "\n",
    "data_inf_pred"
   ]
  }
 ],
 "metadata": {
  "kernelspec": {
   "display_name": "base",
   "language": "python",
   "name": "python3"
  },
  "language_info": {
   "codemirror_mode": {
    "name": "ipython",
    "version": 3
   },
   "file_extension": ".py",
   "mimetype": "text/x-python",
   "name": "python",
   "nbconvert_exporter": "python",
   "pygments_lexer": "ipython3",
   "version": "3.11.5"
  }
 },
 "nbformat": 4,
 "nbformat_minor": 2
}
